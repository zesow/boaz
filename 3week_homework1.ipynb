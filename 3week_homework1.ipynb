{
 "cells": [
  {
   "cell_type": "code",
   "execution_count": 2,
   "metadata": {},
   "outputs": [
    {
     "name": "stdout",
     "output_type": "stream",
     "text": [
      "네이버 아이디를 입력하세요: whtjddn75\n",
      "네이버 비밀번호를 입력하세요: gmltmd2370!\n"
     ]
    }
   ],
   "source": [
    "#네이버 아이디 비밀번호를 입력받는다.\n",
    "ID = input(\"네이버 아이디를 입력하세요: \")\n",
    "PW = input(\"네이버 비밀번호를 입력하세요: \")"
   ]
  },
  {
   "cell_type": "code",
   "execution_count": 4,
   "metadata": {},
   "outputs": [
    {
     "name": "stdout",
     "output_type": "stream",
     "text": [
      "파이썬 기초1\n",
      "파이썬 기초2\n",
      "sql 과 파이썬 연동\n",
      "선형대수1\n",
      "Cs강의\n",
      "포스코 AI\n",
      "SAS\n",
      "Rshiny 심화\n",
      "파이썬 웹 프로그래밍\n",
      "일러스트레이터\n",
      "R기초\n",
      "파이썬 심화\n",
      "파이썬 텍스트마이닝\n",
      "파이썬 크롤링\n",
      "딥러닝 기초\n",
      "인터렉티브 시각화\n",
      "선형대수2\n",
      "멘토멘티A조\n",
      "멘토멘티B조\n",
      "멘토멘티C조\n",
      "멘토멘티D조\n",
      "멘토멘티E조\n"
     ]
    }
   ],
   "source": [
    "from selenium import webdriver\n",
    "\n",
    "#보아즈 카페 접속\n",
    "driver = webdriver.Chrome('C:/Users/MSI/Desktop/chromedriver')\n",
    "driver.get('https://nid.naver.com/nidlogin.login?mode=form&url=https://cafe.naver.com/boazbigdata')\n",
    "\n",
    "#로그인 과정\n",
    "elem_ligin = driver.find_element_by_id(\"id\")\n",
    "elem_ligin.send_keys(ID)\n",
    "\n",
    "elem_ligin = driver.find_element_by_id(\"pw\")\n",
    "elem_ligin.send_keys(PW)\n",
    "\n",
    "driver.find_element_by_xpath('//*[@id=\"frmNIDLogin\"]/fieldset/input').click()\n",
    "\n",
    "import bs4\n",
    "from bs4 import BeautifulSoup \n",
    "\n",
    "#접속중인 보아즈 카페 주소를 html에 할당하고 lxml로 파싱\n",
    "html  = driver.page_source\n",
    "soup = BeautifulSoup(html,'lxml')\n",
    "\n",
    "#2018-2(여름방학)스터디중 <a></a>부분만으로 이루어진 list생성\n",
    "raw_list = soup.select('#group433') \n",
    "raw_study_list = raw_list[0].find_all('a')\n",
    "\n",
    "#텍스트만 추출해 18년도 여름방학 스터디 목록 생성 (strip() : 문자 앞뒤로 공백을 없앤다)\n",
    "study_list = [raw_study_list[n].get_text().strip() for n in range(len(raw_study_list))] \n",
    "\n",
    "#study_list에서 '18-2(방학중)스터디 신청'을 제거\n",
    "del study_list[-1]\n",
    "\n",
    "#스터디 목록 출력\n",
    "for i in range(len(study_list)):\n",
    "    print(study_list[i])\n",
    "    "
   ]
  },
  {
   "cell_type": "code",
   "execution_count": null,
   "metadata": {},
   "outputs": [],
   "source": []
  }
 ],
 "metadata": {
  "kernelspec": {
   "display_name": "Python 3",
   "language": "python",
   "name": "python3"
  },
  "language_info": {
   "codemirror_mode": {
    "name": "ipython",
    "version": 3
   },
   "file_extension": ".py",
   "mimetype": "text/x-python",
   "name": "python",
   "nbconvert_exporter": "python",
   "pygments_lexer": "ipython3",
   "version": "3.6.5"
  }
 },
 "nbformat": 4,
 "nbformat_minor": 2
}
