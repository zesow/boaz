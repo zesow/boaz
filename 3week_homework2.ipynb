{
 "cells": [
  {
   "cell_type": "markdown",
   "metadata": {},
   "source": [
    "정해진 사이트의 페이지, 별점, 리뷰글을 \n",
    "15페이지까지 크롤링해 CSV파일로 만들기\n",
    "\n",
    "*csv를 엑셀로 열어 깨찔 경우 메모장으로 봐주세요.(encoding: utf-8)"
   ]
  },
  {
   "cell_type": "code",
   "execution_count": null,
   "metadata": {},
   "outputs": [],
   "source": [
    "from urllib.request import urlopen\n",
    "from bs4 import BeautifulSoup\n",
    "import pandas as pd\n",
    "import csv\n",
    "\n",
    "page_list = []\n",
    "star_list = []\n",
    "review_list = []\n",
    "#바탕화면에 csv파일을 만들어 놓고 시작\n",
    "file_path = 'C:/Users/MSI/Desktop/'\n",
    "file_name = 'result.csv'\n",
    "\n",
    "\n",
    "#url 페이지의 html코드 lxml로 파싱\n",
    "for page in range(1,16): \n",
    "    url = 'http://deal.11st.co.kr/product/SellerProductDetail.tmall?method=getProductReviewList&prdNo=87595509&page='+str(page)+'&pageTypCd=first&reviewDispYn=Y&isPreview=false&reviewOptDispYn=n&optSearchBtnAndGraphLayer=n&reviewBottomBtn=Y&openDetailContents=Y&pageSize=10&isIgnoreAuth=false&lctgrNo=1001369&leafCtgrNo=0&groupProductNo=0&groupFirstViewPrdNo=0&selNo=16674487#this'\n",
    "    res = urlopen(url)\n",
    "    soup = BeautifulSoup(res.read(),'lxml')\n",
    "    \n",
    "    \n",
    "#별점 리스트 만들기(0)\n",
    "    raw_list = soup.select('.selr_wrap')\n",
    "    raw_star_list = [raw_list[n].get_text() for n in range(len(raw_list))]\n",
    "    star_list = star_list+[raw_star_list[i][-4] for i in range(len(raw_star_list))]\n",
    "\n",
    "#리뷰 리스트 만들기()\n",
    "    raw_list = soup.select('.summ_conts')\n",
    "    review_list = review_list+[raw_list[n].find('a').get_text().strip() for n in range(len(raw_list))]\n",
    "\n",
    "#페이지 리스트 만들기\n",
    "    page_list = page_list + [page]*len(raw_list)    \n",
    "    \n",
    "#결과 저장\n",
    "df = pd.DataFrame({'페이지':page_list,'별점':star_list,'리뷰':review_list})\n",
    "df.to_csv(file_path+file_name,mode = 'w', encoding='utf-8', index=False, header = True)\n",
    "print(\"저장되었습니다./ncsv파일을 확인해주세요.\")"
   ]
  }
 ],
 "metadata": {
  "kernelspec": {
   "display_name": "Python 3",
   "language": "python",
   "name": "python3"
  },
  "language_info": {
   "codemirror_mode": {
    "name": "ipython",
    "version": 3
   },
   "file_extension": ".py",
   "mimetype": "text/x-python",
   "name": "python",
   "nbconvert_exporter": "python",
   "pygments_lexer": "ipython3",
   "version": "3.6.5"
  }
 },
 "nbformat": 4,
 "nbformat_minor": 2
}
